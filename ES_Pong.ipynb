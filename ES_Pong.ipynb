{
 "cells": [
  {
   "cell_type": "code",
   "execution_count": 1,
   "id": "10168bda-22e8-4b69-b072-62e3d4ca3fcb",
   "metadata": {},
   "outputs": [],
   "source": [
    "import numpy as np\n",
    "import matplotlib.pyplot as plt\n",
    "import torch\n",
    "import torch.nn as nn\n",
    "import time\n",
    "from copy import deepcopy\n",
    "from joblib import Parallel, delayed\n",
    "from IPython.display import clear_output\n",
    "from IPython import display\n",
    "from tqdm import tqdm\n",
    "%matplotlib inline"
   ]
  },
  {
   "cell_type": "markdown",
   "id": "86e00bb8-48d3-474e-9de2-f3a60b286781",
   "metadata": {},
   "source": [
    "In this notebook we get to know Pong environment from gym package and implement ES algorithm on it."
   ]
  },
  {
   "cell_type": "markdown",
   "id": "9d66b41b-7405-4a74-a0b7-7179ca4377d0",
   "metadata": {},
   "source": [
    "## 0. Pong Env"
   ]
  },
  {
   "cell_type": "markdown",
   "id": "973b4299-db5e-4af9-b80c-2c416987d880",
   "metadata": {},
   "source": [
    "### 0.1. Environment discription"
   ]
  },
  {
   "cell_type": "code",
   "execution_count": 3,
   "id": "ce26764c-092a-41bd-a133-011fcce5d147",
   "metadata": {
    "tags": []
   },
   "outputs": [
    {
     "data": {
      "text/plain": [
       "<matplotlib.image.AxesImage at 0x7f9729fb21f0>"
      ]
     },
     "execution_count": 3,
     "metadata": {},
     "output_type": "execute_result"
    },
    {
     "data": {
      "image/png": "[encoded data removed]",
      "text/plain": [
       "<Figure size 432x288 with 1 Axes>"
      ]
     },
     "metadata": {
      "needs_background": "light"
     },
     "output_type": "display_data"
    }
   ],
   "source": [
    "import gym\n",
    "\n",
    "tmp_env = gym.make(\"PongDeterministic-v4\")\n",
    "tmp_env.reset()\n",
    "plt.imshow(tmp_env.render('rgb_array'))"
   ]
  },
  {
   "cell_type": "code",
   "execution_count": 5,
   "id": "e91259ce-882f-4bb4-bffe-c7aa64d2c202",
   "metadata": {},
   "outputs": [
    {
     "name": "stdout",
     "output_type": "stream",
     "text": [
      "OBSERVATION SPACE: \n",
      " (210, 160, 3)\n",
      "\n",
      "\n",
      "ACTION SPACE: \n",
      " Discrete(6)\n"
     ]
    }
   ],
   "source": [
    "print(\"OBSERVATION SPACE: \\n {}\".format(tmp_env.observation_space.shape))\n",
    "print(\"\\n\")\n",
    "print(\"ACTION SPACE: \\n {}\".format(tmp_env.action_space))"
   ]
  },
  {
   "cell_type": "markdown",
   "id": "bccf069d-9fda-4694-954c-736363a19010",
   "metadata": {},
   "source": [
    "We see that each observation is given by a rgb image of shape (210, 160). \n",
    "\n",
    "At the same time, we have 6 actions:\n",
    "\n",
    "1. 0,1 for standing \n",
    "2. 2,4 for moving left\n",
    "3. 3,5 for moving right"
   ]
  },
  {
   "cell_type": "code",
   "execution_count": 13,
   "id": "9525621f-6a14-43ca-93f9-d48224c48ec2",
   "metadata": {},
   "outputs": [
    {
     "name": "stdout",
     "output_type": "stream",
     "text": [
      "State size: (210, 160, 3)\n",
      "Actions size: 6\n"
     ]
    }
   ],
   "source": [
    "state_size = tmp_env.observation_space.shape\n",
    "n_actions = tmp_env.action_space.n\n",
    "\n",
    "print(\"State size: {}\".format(state_size))\n",
    "print(\"Actions size: {}\".format(n_actions))"
   ]
  },
  {
   "cell_type": "markdown",
   "id": "df3386c9-b337-4cff-97ba-8b981a516d52",
   "metadata": {},
   "source": [
    "### 0.1. Interaction with environment"
   ]
  },
  {
   "cell_type": "code",
   "execution_count": 7,
   "id": "54996fdc-9864-4325-81b6-c93c601df091",
   "metadata": {},
   "outputs": [
    {
     "name": "stdout",
     "output_type": "stream",
     "text": [
      "NOW WE HAVE: \n",
      "\n",
      "Initial state is: (210, 160, 3)\n",
      "\n",
      "\n",
      "AFTER ONE STEP WE GET: \n",
      "\n",
      "New state: (210, 160, 3)\n",
      "Reward: 0.0\n",
      "The game is over? --  False\n"
     ]
    }
   ],
   "source": [
    "initial_state = tmp_env.reset()\n",
    "\n",
    "print(\"NOW WE HAVE: \\n\")\n",
    "print(\"Initial state is: {}\".format(initial_state.shape))\n",
    "\n",
    "#make step in environment\n",
    "new_state, reward, done, _ = tmp_env.step(0)\n",
    "\n",
    "print('\\n')\n",
    "print(\"AFTER ONE STEP WE GET: \\n\")\n",
    "\n",
    "print(\"New state: {}\".format(new_state.shape))\n",
    "print(\"Reward: {}\".format(reward))\n",
    "print(\"The game is over? --  {}\".format(done))"
   ]
  },
  {
   "cell_type": "markdown",
   "id": "1697504a-0200-4f0e-8380-66f1b53e7882",
   "metadata": {},
   "source": [
    "### 0.2 Random agent "
   ]
  },
  {
   "cell_type": "markdown",
   "id": "b53d6217-2cc7-41e9-bbdf-a7a52a829577",
   "metadata": {},
   "source": [
    "Before applying the ES algorithm lets look at perfomance of an agent which acts randomly."
   ]
  },
  {
   "cell_type": "code",
   "execution_count": 8,
   "id": "1178d1d0-b9bd-43a4-ad95-6f24aee735c0",
   "metadata": {},
   "outputs": [],
   "source": [
    "class RandomAgent:\n",
    "    def __init__(self, n_actions):\n",
    "        self.n_actions = n_actions\n",
    "    \n",
    "    def get_action(self, state):\n",
    "        return np.random.choice(self.n_actions)"
   ]
  },
  {
   "cell_type": "markdown",
   "id": "70e733fa-8175-42f4-984d-a790b98c706e",
   "metadata": {},
   "source": [
    "### 0.3 Sessions display "
   ]
  },
  {
   "cell_type": "code",
   "execution_count": 10,
   "id": "4a2c4d82-d98d-4078-b9f7-af010a6dac64",
   "metadata": {},
   "outputs": [],
   "source": [
    "def display_session(env, agent, t_max = 500):\n",
    "    \"\"\"\n",
    "    Displays an episode. \n",
    "    \n",
    "    Args:\n",
    "        env: gym environment\n",
    "        agent: agent which interacts with environment\n",
    "        t_max: trajectory length\n",
    "    \"\"\"\n",
    "    plt.figure(figsize=(6, 5))\n",
    "    display.clear_output(wait=True)\n",
    "    \n",
    "    \n",
    "    total_reward = 0\n",
    "    state = env.reset()\n",
    "    \n",
    "    for t in range(t_max):\n",
    "        plt.gca().clear()\n",
    "        \n",
    "        action = agent.get_action(torch.tensor(state).float())\n",
    "        new_state, reward, done, _ = env.step(action)\n",
    "        state = new_state\n",
    "        \n",
    "        total_reward += reward\n",
    "        \n",
    "        plt.imshow(env.render('rgb_array'))\n",
    "\n",
    "        display.display(plt.gcf())\n",
    "        display.clear_output(wait=True)\n",
    "        \n",
    "        if done:\n",
    "            break\n",
    "            \n",
    "    return total_reward"
   ]
  },
  {
   "cell_type": "code",
   "execution_count": 14,
   "id": "9658769c-e8dd-49f1-9828-d9299082998a",
   "metadata": {},
   "outputs": [
    {
     "name": "stdout",
     "output_type": "stream",
     "text": [
      "Total reward: -11.0\n"
     ]
    },
    {
     "data": {
      "image/png": "[encoded data removed]",
      "text/plain": [
       "<Figure size 432x360 with 1 Axes>"
      ]
     },
     "metadata": {
      "needs_background": "light"
     },
     "output_type": "display_data"
    }
   ],
   "source": [
    "total_reward = display_session(tmp_env, RandomAgent(n_actions))\n",
    "print('Total reward: {}'.format(total_reward))"
   ]
  },
  {
   "cell_type": "markdown",
   "id": "883a4ccb-f595-4932-88f5-cce281d3e1a3",
   "metadata": {},
   "source": [
    "### 0.4 Evaluation"
   ]
  },
  {
   "cell_type": "code",
   "execution_count": 15,
   "id": "c644be87-d860-4da4-9693-bf35cb258d46",
   "metadata": {},
   "outputs": [],
   "source": [
    "def generate_session(env, agent, t_max=500):\n",
    "    \"\"\"\n",
    "    Generates one session. \n",
    "    \n",
    "    Args:\n",
    "        env: gym environment\n",
    "        agent: agent which interacts with environment\n",
    "        t_max: trajectory length\n",
    "        \n",
    "    Returns:\n",
    "        total_reward: total episode reward \n",
    "    \"\"\"\n",
    "    total_reward = 0\n",
    "    state = env.reset()\n",
    "    \n",
    "    for t in range(t_max):\n",
    "        action = agent.get_action(torch.tensor(state).float())\n",
    "        new_state, reward, done, info = env.step(action)\n",
    "        total_reward += reward\n",
    "        state = new_state\n",
    "        \n",
    "        if done:\n",
    "            break\n",
    "            \n",
    "    return total_reward\n",
    "\n",
    "\n",
    "def score(env, agent, n=10, t_max=500):\n",
    "    \"\"\"\n",
    "    Calculates total score for given number of generated sessions n and \n",
    "    length of trajectory t_max. \n",
    "    \n",
    "    Args:\n",
    "        env: gym environment\n",
    "        agent: agent which interacts with environment\n",
    "        n: number of generated session \n",
    "        t_max: trajectory length\n",
    "    \n",
    "    Returns:\n",
    "        total_reward: average for all episodes reward\n",
    "    \"\"\"\n",
    "    \n",
    "    rewards = [generate_session(env, agent, t_max=t_max) for _ in range(n)]\n",
    "    return sum(rewards) / n"
   ]
  },
  {
   "cell_type": "code",
   "execution_count": 16,
   "id": "452c7f7c-d5ec-4c8f-8858-1e18177ce507",
   "metadata": {},
   "outputs": [
    {
     "name": "stdout",
     "output_type": "stream",
     "text": [
      "Mean reward for 10 games with random agent policy: -11.0\n"
     ]
    }
   ],
   "source": [
    "n = 10\n",
    "t_max = 500\n",
    "reward = score(tmp_env, RandomAgent(n_actions), n, t_max)\n",
    "print('Mean reward for {} games with random agent policy: {}'.format(n, total_reward))"
   ]
  },
  {
   "cell_type": "markdown",
   "id": "f1cfdc09-4341-4b02-9669-41bc4b2931bd",
   "metadata": {},
   "source": [
    "### 0.5 Env preprocessing"
   ]
  },
  {
   "cell_type": "code",
   "execution_count": 23,
   "id": "a5b7c153-91f6-4425-b7bf-b041691a2e0e",
   "metadata": {},
   "outputs": [],
   "source": [
    "import numpy as np\n",
    "import gym\n",
    "from gym.core import Wrapper\n",
    "from gym.spaces.box import Box\n",
    "import cv2\n",
    "\n",
    "def make_pong():\n",
    "    \"\"\"Сreates breakout env with all preprocessing done for you\"\"\"\n",
    "    return PreprocessAtari(gym.make(\"PongDeterministic-v0\"))\n",
    "\n",
    "\n",
    "class PreprocessAtari(Wrapper):\n",
    "    def __init__(self, env, height=42, width=42,\n",
    "                 crop=lambda img: img[34:34 + 160], n_frames=4):\n",
    "        \"\"\"\n",
    "        A gym wrapper that reshapes, crops and scales image into the desired shapes\n",
    "        \n",
    "        Args:\n",
    "            env: gym environment\n",
    "            height: height of the image \n",
    "            width: width of the image\n",
    "            crop: function which crops big image\n",
    "            n_frames: length of the buffer\n",
    "        \n",
    "        \"\"\"\n",
    "        super(PreprocessAtari, self).__init__(env)\n",
    "        self.img_size = (height, width)\n",
    "        self.crop = crop\n",
    "        self.observation_space = Box(0.0, 1.0, [n_frames, height, width])\n",
    "        self.framebuffer = np.zeros([n_frames, height, width])\n",
    "\n",
    "    def reset(self):\n",
    "        \"\"\"Resets breakout, returns initial frames\"\"\"\n",
    "        img = self.env.reset()\n",
    "        x = self.preproc_image(img)[None, :]\n",
    "        self.framebuffer = np.vstack((x, x, x, x))\n",
    "        return self.framebuffer\n",
    "\n",
    "    def step(self, action):\n",
    "        \"\"\"\n",
    "        Plays breakout for 1 step, returns 4-frame buffer\n",
    "        \n",
    "        Args:\n",
    "            action: action of an agent to make a step in environment\n",
    "        \"\"\"\n",
    "        img, reward, done, info = self.env.step(action)\n",
    "        self.update_buffer(img)\n",
    "        return self.framebuffer, reward, done, info\n",
    "\n",
    "    ###image processing###\n",
    "\n",
    "    def update_buffer(self, img):\n",
    "        \"\"\"\n",
    "        Updates buffer\n",
    "        \n",
    "        Args:\n",
    "            img: image to add in buffer\n",
    "        \"\"\"\n",
    "        self.framebuffer[1:] = self.framebuffer[0:-1]\n",
    "        self.framebuffer[0] = self.preproc_image(img)\n",
    "\n",
    "    def normalize_image(self, img):\n",
    "        \"\"\"\n",
    "        Normalizes image\n",
    "        \n",
    "        img: image to scale\n",
    "        \"\"\"\n",
    "        img_mn = img.mean()\n",
    "        img_std = img.std()\n",
    "        return (img - img_mn) / (img_std + 1e-3)\n",
    "\n",
    "\n",
    "    def preproc_image(self, img):\n",
    "        \"\"\"\n",
    "        What happens to the observation\n",
    "        \n",
    "        img: image to preprocess\n",
    "        \"\"\"\n",
    "        img = self.crop(img)\n",
    "        img = cv2.resize(src=img,\n",
    "                       dsize=self.img_size,\n",
    "                       interpolation=cv2.INTER_CUBIC).mean(-1)\n",
    "        img = img.astype('float32') / 255.\n",
    "        img = self.normalize_image(img)\n",
    "        return img"
   ]
  },
  {
   "cell_type": "code",
   "execution_count": 24,
   "id": "2a2a8b6a-d800-43b6-a11e-05e5b24eb83d",
   "metadata": {},
   "outputs": [
    {
     "name": "stdout",
     "output_type": "stream",
     "text": [
      "(4, 42, 42)\n"
     ]
    }
   ],
   "source": [
    "env = make_pong()\n",
    "print(env.observation_space.shape)"
   ]
  },
  {
   "cell_type": "markdown",
   "id": "9cfee8f7-9542-4d7a-b6de-92c5c5118872",
   "metadata": {},
   "source": [
    "---"
   ]
  },
  {
   "cell_type": "markdown",
   "id": "ef942cc3-ebd5-41ea-83fb-8911a587b121",
   "metadata": {},
   "source": [
    "## 1. Evolution strategies"
   ]
  },
  {
   "cell_type": "code",
   "execution_count": 18,
   "id": "dd1fb04c-bcd7-4b2a-92a1-cf97cc6c3860",
   "metadata": {},
   "outputs": [],
   "source": [
    "def add_noise_to_model(model, noise, copy=False):\n",
    "    \"\"\"\n",
    "    Add noise to the parameters of our model (agent). \n",
    "    \n",
    "    Args:\n",
    "        model: maps the sates into the actions (i.e. agent)\n",
    "        noise: noise which we add to parameters\n",
    "        copy: whether to make a new copy of the model\n",
    "    \"\"\"\n",
    "    if copy:\n",
    "        new_model = deepcopy(model)\n",
    "    else:\n",
    "        new_model = model\n",
    "        \n",
    "    for param, noise_param in zip(new_model.parameters(), noise):\n",
    "        param.data += noise_param\n",
    "\n",
    "    return new_model"
   ]
  },
  {
   "cell_type": "code",
   "execution_count": 19,
   "id": "5a0a64dd-c982-402c-95f8-b55b086b9086",
   "metadata": {},
   "outputs": [],
   "source": [
    "np.random.seed(2022)"
   ]
  },
  {
   "cell_type": "code",
   "execution_count": 37,
   "id": "e9797a48-636b-49b9-acce-f1e4715457e7",
   "metadata": {},
   "outputs": [],
   "source": [
    "class EvolutionStrategies:\n",
    "    def __init__(self, get_env_function, lr=0.001, std=0.01, n_samples = 64, n_threads = 1, normalize=True, t_max=1e3):\n",
    "        super().__init__()\n",
    "        self.lr = lr\n",
    "        self.std = std\n",
    "        self.normalize = normalize\n",
    "        self.n_samples = n_samples\n",
    "        self.mean_reward_history = []\n",
    "        self.n_threads = n_threads\n",
    "        self.env = get_env_function()\n",
    "        self.t_max = t_max\n",
    "        \n",
    "        \n",
    "    def get_noised_model(self, model):\n",
    "        \"\"\"\n",
    "        Generate noise and adds it to the model.\n",
    "        \n",
    "        Args:\n",
    "            model: maps the sates into the actions (i.e. agent)\n",
    "        \n",
    "        Returns:\n",
    "            model with noise and noise itself.\n",
    "        \"\"\"\n",
    "        noise = []\n",
    "        for param in model.parameters():\n",
    "            noise.append(self.std * torch.randn(param.shape))\n",
    "            \n",
    "        return add_noise_to_model(model, noise, copy=True), noise\n",
    "    \n",
    "    def normalize_rewards(self, rewards):\n",
    "        \"\"\"\n",
    "        Normalizes rewards. \n",
    "        \n",
    "        Args:\n",
    "            rewards: model rewards               \n",
    "        \"\"\"\n",
    "        rewards = (rewards - torch.mean(rewards)) / torch.std(rewards)\n",
    "        return rewards\n",
    "\n",
    "    \n",
    "    def optimize(self, model, noises, rewards):\n",
    "        \"\"\"\n",
    "        Updates weights by adding the combined (weighted) noise. \n",
    "        \n",
    "        Args:\n",
    "            model: maps the sates into the actions (i.e. agent)\n",
    "            noises: list of vectors of noises \n",
    "            rewards: rewards                \n",
    "        \"\"\"\n",
    "        if self.normalize:\n",
    "            rewards = self.normalize_rewards(rewards)\n",
    "        \n",
    "        combined_noise = []\n",
    "        for i in range(len(list(model.parameters()))):\n",
    "            cat_noise = torch.cat([n[i].unsqueeze(n[i].dim()) for n in noises], dim=-1)\n",
    "            combined_noise.append(torch.sum(rewards * cat_noise / self.std, dim=-1))\n",
    "            combined_noise[-1] *= self.lr / (len(noises) * self.std)\n",
    "\n",
    "        add_noise_to_model(model, combined_noise)\n",
    "    \n",
    "    \n",
    "    def step(self, model):\n",
    "        \"\"\"\n",
    "        Calculates rewards and makes an optimizing step.\n",
    "        \n",
    "        Args:\n",
    "            model: maps the sates into the actions (i.e. agent)\n",
    "        \"\"\"\n",
    "        st = time.time()\n",
    "        rewards = []\n",
    "        noises = []\n",
    "        noised_models = []\n",
    "        for i in range(self.n_samples):\n",
    "            noised_model, noise = self.get_noised_model(model)\n",
    "            noised_models.append(noised_model)\n",
    "            noises.append(noise)\n",
    "        \n",
    "        if self.n_threads == 1:\n",
    "            rewards = [score(self.env, noised_models[i], t_max=self.t_max) for i in range(self.n_samples)]\n",
    "        else:\n",
    "            rewards = np.array(Parallel(n_jobs=self.n_threads)(delayed(score)(deepcopy(self.env), noised_models[i], t_max=self.t_max) \n",
    "                                                               for i in range(self.n_samples)))\n",
    "        \n",
    "        self.optimize(model, noises, torch.tensor(rewards))\n",
    "        self.update_log(rewards)\n",
    "        \n",
    "    def update_log(self, rewards):\n",
    "        \"\"\"\n",
    "        Logs new rewards.\n",
    "        \"\"\"\n",
    "        mean_reward = np.mean(rewards)\n",
    "        self.mean_reward_history.append(mean_reward)\n",
    "\n",
    "        clear_output(True)\n",
    "        print(\"last mean reward = %.3f\" % mean_reward)\n",
    "        plt.figure(figsize=[8, 4])\n",
    "        plt.subplot(1, 2, 1)\n",
    "        plt.plot(self.mean_reward_history, label='Mean rewards')\n",
    "        plt.legend()\n",
    "        plt.grid()\n",
    "\n",
    "        plt.subplot(1, 2, 2)\n",
    "        plt.hist(rewards)\n",
    "        plt.grid()\n",
    "\n",
    "        plt.show()"
   ]
  },
  {
   "cell_type": "code",
   "execution_count": 32,
   "id": "939abadb-6c33-47a0-8b42-d71190920f01",
   "metadata": {},
   "outputs": [],
   "source": [
    "class MLPPolicy(nn.Module):\n",
    "    def __init__(self, state_size, actions):\n",
    "        super(MLPPolicy, self).__init__()\n",
    "        \n",
    "        assert state_size == (4, 42, 42)\n",
    "\n",
    "        self.actions = actions\n",
    "        self.actions_size = len(actions)\n",
    "        \n",
    "        self.linear_layers = nn.Sequential(\n",
    "            nn.Linear(in_features = 4800, \n",
    "                      out_features = self.actions_size, \n",
    "                      bias=False)\n",
    "        )\n",
    "        \n",
    "        self.conv_layers = nn.Sequential(\n",
    "            nn.Conv2d(in_channels=state_size[0], \n",
    "                      out_channels=3, \n",
    "                      kernel_size=3, \n",
    "                      bias=False),\n",
    "            nn.Flatten()\n",
    "        )\n",
    "    \n",
    "\n",
    "    def get_action(self, state):\n",
    "        with torch.no_grad():\n",
    "            state_after_convolution = self.conv_layers(state[None, :])\n",
    "            final_state = self.linear_layers(state_after_convolution)\n",
    "        \n",
    "        return  self.actions[int(torch.argmax(final_state).numpy())]"
   ]
  },
  {
   "cell_type": "code",
   "execution_count": 33,
   "id": "06fb6408-0198-4bf4-9cee-c52d7c898b56",
   "metadata": {},
   "outputs": [
    {
     "name": "stdout",
     "output_type": "stream",
     "text": [
      "(4, 42, 42)\n",
      "6\n"
     ]
    }
   ],
   "source": [
    "n_states = env.observation_space.shape\n",
    "print(n_states)\n",
    "n_actions = env.action_space.n\n",
    "print(n_actions)"
   ]
  },
  {
   "cell_type": "code",
   "execution_count": 34,
   "id": "95e4e597-fc4e-43d9-af27-488f6e01119d",
   "metadata": {},
   "outputs": [],
   "source": [
    "import warnings\n",
    "warnings.filterwarnings(\"ignore\")\n",
    "from tqdm import tqdm"
   ]
  },
  {
   "cell_type": "code",
   "execution_count": 39,
   "id": "5e2636f0-622e-4a53-98d5-4179c8742223",
   "metadata": {},
   "outputs": [
    {
     "name": "stdout",
     "output_type": "stream",
     "text": [
      "last mean reward = -5.431\n"
     ]
    },
    {
     "data": {
      "image/png": "[encoded data removed]",
      "text/plain": [
       "<Figure size 576x288 with 2 Axes>"
      ]
     },
     "metadata": {
      "needs_background": "light"
     },
     "output_type": "display_data"
    },
    {
     "name": "stderr",
     "output_type": "stream",
     "text": [
      "100%|██████████████████████████████████████████████████████████████████████████████████████████████████████████████████████████████████████████████████████████████████████| 15/15 [26:32<00:00, 106.16s/it]"
     ]
    },
    {
     "name": "stdout",
     "output_type": "stream",
     "text": [
      "102.07479286193848\n"
     ]
    },
    {
     "name": "stderr",
     "output_type": "stream",
     "text": [
      "\n"
     ]
    }
   ],
   "source": [
    "model_500 = MLPPolicy(n_states, [1,2,3])\n",
    "\n",
    "algorithm_500 = EvolutionStrategies(make_pong, std=0.01, lr=0.001, n_threads = -1, n_samples=64, normalize=True, t_max=500)\n",
    "\n",
    "for i in tqdm(range(15)):\n",
    "    t = time.time()\n",
    "    algorithm_500.step(model_500)\n",
    "    print(time.time() - t)"
   ]
  },
  {
   "cell_type": "code",
   "execution_count": null,
   "id": "cf09dd51-0605-4d74-9daa-ff33e408d4c4",
   "metadata": {},
   "outputs": [],
   "source": []
  },
  {
   "cell_type": "code",
   "execution_count": null,
   "id": "1209f7e7-bfb0-4911-943b-728cbad504fe",
   "metadata": {},
   "outputs": [
    {
     "name": "stdout",
     "output_type": "stream",
     "text": [
      "last mean reward = -15.188\n"
     ]
    },
    {
     "data": {
      "image/png": "[encoded data removed]",
      "text/plain": [
       "<Figure size 576x288 with 2 Axes>"
      ]
     },
     "metadata": {
      "needs_background": "light"
     },
     "output_type": "display_data"
    },
    {
     "name": "stderr",
     "output_type": "stream",
     "text": [
      "  4%|███████▎                                                                                                                                                           | 9/200 [35:50<15:09:54, 285.83s/it]"
     ]
    },
    {
     "name": "stdout",
     "output_type": "stream",
     "text": [
      "344.8697590827942\n"
     ]
    }
   ],
   "source": [
    "model_5000 = MLPPolicy(n_states, [1,2,3])\n",
    "\n",
    "algorithm_5000 = EvolutionStrategies(make_pong, std=0.01, lr=0.001, n_threads = -1, n_samples=64, normalize=True, t_max=5000)\n",
    "\n",
    "for i in tqdm(range(200)):\n",
    "    t = time.time()\n",
    "    algorithm_5000.step(model_5000)\n",
    "    print(time.time() - t)"
   ]
  },
  {
   "cell_type": "code",
   "execution_count": null,
   "id": "132bf80d-4160-4bad-b114-f4e2eb769ee8",
   "metadata": {},
   "outputs": [],
   "source": []
  }
 ],
 "metadata": {
  "kernelspec": {
   "display_name": "Python 3 (ipykernel)",
   "language": "python",
   "name": "python3"
  },
  "language_info": {
   "codemirror_mode": {
    "name": "ipython",
    "version": 3
   },
   "file_extension": ".py",
   "mimetype": "text/x-python",
   "name": "python",
   "nbconvert_exporter": "python",
   "pygments_lexer": "ipython3",
   "version": "3.9.7"
  }
 },
 "nbformat": 4,
 "nbformat_minor": 5
}
