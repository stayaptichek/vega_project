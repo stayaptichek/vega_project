{
 "cells": [
  {
   "cell_type": "code",
   "execution_count": 53,
   "id": "29a204e8-71be-40a5-9cbc-561b15b79858",
   "metadata": {},
   "outputs": [],
   "source": [
    "import numpy as np\n",
    "import matplotlib.pyplot as plt\n",
    "import torch\n",
    "import torch.nn as nn\n",
    "import time\n",
    "from copy import deepcopy\n",
    "from joblib import Parallel, delayed\n",
    "from IPython.display import clear_output\n",
    "from IPython import display\n",
    "from tqdm import tqdm\n",
    "%matplotlib inline"
   ]
  },
  {
   "cell_type": "markdown",
   "id": "cc1439b7-a219-4ae6-b6bd-1322cf0c8bfe",
   "metadata": {},
   "source": [
    "In this notebook we get to know CartPole environment from gym package and implement ES algorithm on it."
   ]
  },
  {
   "cell_type": "markdown",
   "id": "8f78cbde-e13f-4ab7-9144-94ccb4ccac8b",
   "metadata": {},
   "source": [
    "## 0. CartPole Env"
   ]
  },
  {
   "cell_type": "markdown",
   "id": "a1fc3c90-16af-4211-88f5-2a3a8201e505",
   "metadata": {},
   "source": [
    "### 0.1. Environment discription"
   ]
  },
  {
   "cell_type": "code",
   "execution_count": 3,
   "id": "2d3c09b6-61ae-4eed-bde6-8ac177e0720e",
   "metadata": {},
   "outputs": [],
   "source": [
    "import gym"
   ]
  },
  {
   "cell_type": "code",
   "execution_count": 13,
   "id": "c5bfb9dd-ed2d-494f-9463-04702623b76a",
   "metadata": {},
   "outputs": [
    {
     "data": {
      "text/plain": [
       "<matplotlib.image.AxesImage at 0x7fed32b4ed00>"
      ]
     },
     "execution_count": 13,
     "metadata": {},
     "output_type": "execute_result"
    },
    {
     "data": {
      "image/png": "[encoded data removed]",
      "text/plain": [
       "<Figure size 432x288 with 1 Axes>"
      ]
     },
     "metadata": {
      "needs_background": "light"
     },
     "output_type": "display_data"
    }
   ],
   "source": [
    "tmp_env = gym.make(\"CartPole-v1\")\n",
    "tmp_env.reset()\n",
    "plt.imshow(tmp_env.render('rgb_array'))"
   ]
  },
  {
   "cell_type": "code",
   "execution_count": 18,
   "id": "b8df8e50-5ad6-4806-ac18-4f9cd0c3ce8d",
   "metadata": {},
   "outputs": [
    {
     "name": "stdout",
     "output_type": "stream",
     "text": [
      "OBSERVATION SPACE: \n",
      " Box([-4.8000002e+00 -3.4028235e+38 -4.1887903e-01 -3.4028235e+38], [4.8000002e+00 3.4028235e+38 4.1887903e-01 3.4028235e+38], (4,), float32)\n",
      "\n",
      "\n",
      "ACTION SPACE: \n",
      " Discrete(2)\n"
     ]
    }
   ],
   "source": [
    "print(\"OBSERVATION SPACE: \\n {}\".format(tmp_env.observation_space))\n",
    "print(\"\\n\")\n",
    "print(\"ACTION SPACE: \\n {}\".format(tmp_env.action_space))"
   ]
  },
  {
   "cell_type": "markdown",
   "id": "27462344-233e-4b7a-a3c9-57d24307d7ae",
   "metadata": {},
   "source": [
    "We see that each observation is given space is given by 4 magnitudes:\n",
    "\n",
    "1. cart position\n",
    "2. cart velocity \n",
    "3. pole angle\n",
    "4. pole angular velocity\n",
    "\n",
    "At the same time, we have just 2 actions:\n",
    "\n",
    "1. move right \n",
    "2. move left"
   ]
  },
  {
   "cell_type": "code",
   "execution_count": 21,
   "id": "48cd46cb-8911-4db3-8cce-ed567d2b625f",
   "metadata": {},
   "outputs": [
    {
     "name": "stdout",
     "output_type": "stream",
     "text": [
      "State size: 4\n",
      "Actions size: 2\n"
     ]
    }
   ],
   "source": [
    "state_size = tmp_env.observation_space.shape[0]\n",
    "n_actions = tmp_env.action_space.n\n",
    "\n",
    "print(\"State size: {}\".format(state_size))\n",
    "print(\"Actions size: {}\".format(n_actions))"
   ]
  },
  {
   "cell_type": "markdown",
   "id": "5028fdd5-f3c0-4244-ad2a-86b0d42ec8a8",
   "metadata": {},
   "source": [
    "### 0.1. Interaction with environment"
   ]
  },
  {
   "cell_type": "code",
   "execution_count": 29,
   "id": "f1f05238-c9e6-4cb1-b625-a32a18bdf8e3",
   "metadata": {},
   "outputs": [
    {
     "name": "stdout",
     "output_type": "stream",
     "text": [
      "NOW WE HAVE: \n",
      "\n",
      "Initial state is: [-0.0408659  -0.01876177 -0.02004804 -0.02952263]\n",
      "\n",
      "\n",
      "AFTER ONE STEP WE GET: \n",
      "\n",
      "New state: [-0.04124114 -0.21359058 -0.02063849  0.2567681 ]\n",
      "Reward: 1.0\n",
      "The game is over? --  False\n"
     ]
    }
   ],
   "source": [
    "initial_state = tmp_env.reset()\n",
    "\n",
    "print(\"NOW WE HAVE: \\n\")\n",
    "print(\"Initial state is: {}\".format(initial_state))\n",
    "\n",
    "#make step in environment\n",
    "new_state, reward, done, _ = tmp_env.step(0)\n",
    "\n",
    "print('\\n')\n",
    "print(\"AFTER ONE STEP WE GET: \\n\")\n",
    "\n",
    "print(\"New state: {}\".format(new_state))\n",
    "print(\"Reward: {}\".format(reward))\n",
    "print(\"The game is over? --  {}\".format(done))"
   ]
  },
  {
   "cell_type": "markdown",
   "id": "02db7e24-9fa9-4bcf-b75c-f027e7e4b7c5",
   "metadata": {},
   "source": [
    "### 0.3 Random agent "
   ]
  },
  {
   "cell_type": "markdown",
   "id": "88dafbe0-df3e-4ac6-a310-93b3c83dea6f",
   "metadata": {},
   "source": [
    "Before applying the ES algorithm lets look at perfomance of an agent which acts randomly."
   ]
  },
  {
   "cell_type": "code",
   "execution_count": 32,
   "id": "28e22561-a6ef-4d21-bc9c-1d27d42602c8",
   "metadata": {},
   "outputs": [],
   "source": [
    "class RandomAgent:\n",
    "    def __init__(self, n_actions):\n",
    "        self.n_actions = n_actions\n",
    "    \n",
    "    def get_action(self, state):\n",
    "        return np.random.choice(self.n_actions)"
   ]
  },
  {
   "cell_type": "markdown",
   "id": "9ab65bef-16c1-45b1-9346-12d566df1c17",
   "metadata": {},
   "source": [
    "### 0.3 Sessions display "
   ]
  },
  {
   "cell_type": "code",
   "execution_count": 33,
   "id": "8b1dc31f-48c8-46c3-836c-66de6eaabe01",
   "metadata": {},
   "outputs": [],
   "source": [
    "def display_session(env, agent, t_max = 500):\n",
    "    \"\"\"\n",
    "    Displays an episode. \n",
    "    \n",
    "    Args:\n",
    "        env: gym environment\n",
    "        agent: agent which interacts with environment\n",
    "        t_max: trajectory length\n",
    "    \"\"\"\n",
    "    plt.figure(figsize=(6, 5))\n",
    "    display.clear_output(wait=True)\n",
    "    \n",
    "    \n",
    "    total_reward = 0\n",
    "    state = env.reset()\n",
    "    \n",
    "    for t in range(t_max):\n",
    "        plt.gca().clear()\n",
    "        \n",
    "        action = agent.get_action(torch.tensor(state).float())\n",
    "        new_state, reward, done, _ = env.step(action)\n",
    "        state = new_state\n",
    "        \n",
    "        total_reward += reward\n",
    "        \n",
    "        plt.imshow(env.render('rgb_array'))\n",
    "\n",
    "        display.display(plt.gcf())\n",
    "        display.clear_output(wait=True)\n",
    "        \n",
    "        if done:\n",
    "            break\n",
    "            \n",
    "    return total_reward"
   ]
  },
  {
   "cell_type": "code",
   "execution_count": 37,
   "id": "634c9d31-8e5d-4b64-a04c-de0389ce8391",
   "metadata": {},
   "outputs": [
    {
     "name": "stdout",
     "output_type": "stream",
     "text": [
      "Total reward: 31.0\n"
     ]
    },
    {
     "data": {
      "image/png": "[encoded data removed]",
      "text/plain": [
       "<Figure size 432x360 with 1 Axes>"
      ]
     },
     "metadata": {
      "needs_background": "light"
     },
     "output_type": "display_data"
    }
   ],
   "source": [
    "total_reward = display_session(tmp_env, RandomAgent(n_actions))\n",
    "print('Total reward: {}'.format(total_reward))"
   ]
  },
  {
   "cell_type": "markdown",
   "id": "3fd8e5af-b0b1-440d-b536-f290d18c5a70",
   "metadata": {},
   "source": [
    "### 0.4 Evaluation"
   ]
  },
  {
   "cell_type": "code",
   "execution_count": 74,
   "id": "1afd64eb-7135-42e2-9e9f-8f5458de25b9",
   "metadata": {},
   "outputs": [],
   "source": [
    "def generate_session(env, agent, t_max=500):\n",
    "    \"\"\"\n",
    "    Generates one session. \n",
    "    \n",
    "    Args:\n",
    "        env: gym environment\n",
    "        agent: agent which interacts with environment\n",
    "        t_max: trajectory length\n",
    "        \n",
    "    Returns:\n",
    "        total_reward: total episode reward \n",
    "    \"\"\"\n",
    "    total_reward = 0\n",
    "    state = env.reset()\n",
    "    \n",
    "    for t in range(t_max):\n",
    "        action = agent.get_action(torch.tensor(state).float())\n",
    "        new_state, reward, done, info = env.step(action)\n",
    "        total_reward += reward\n",
    "        state = new_state\n",
    "        \n",
    "        if done:\n",
    "            break\n",
    "            \n",
    "    return total_reward\n",
    "\n",
    "\n",
    "def score(env, agent, n=10, t_max=500):\n",
    "    \"\"\"\n",
    "    Calculates total score for given number of generated sessions n and \n",
    "    length of trajectory t_max. \n",
    "    \n",
    "    Args:\n",
    "        env: gym environment\n",
    "        agent: agent which interacts with environment\n",
    "        n: number of generated session \n",
    "        t_max: trajectory length\n",
    "    \n",
    "    Returns:\n",
    "        total_reward: average for all episodes reward\n",
    "    \"\"\"\n",
    "    \n",
    "    rewards = [generate_session(env, agent, t_max=t_max) for _ in range(n)]\n",
    "    return sum(rewards) / n"
   ]
  },
  {
   "cell_type": "code",
   "execution_count": 75,
   "id": "9d626027-fe0e-4625-a65a-cfa2a59f723e",
   "metadata": {},
   "outputs": [
    {
     "name": "stdout",
     "output_type": "stream",
     "text": [
      "Mean reward for 10 games with random agent policy: 31.0\n"
     ]
    }
   ],
   "source": [
    "n = 10\n",
    "t_max = 500\n",
    "reward = score(tmp_env, RandomAgent(n_actions), n, t_max)\n",
    "print('Mean reward for {} games with random agent policy: {}'.format(n, total_reward))"
   ]
  },
  {
   "cell_type": "markdown",
   "id": "dbd4ecf8-7054-4f0c-90b7-65692477a708",
   "metadata": {},
   "source": [
    "---"
   ]
  },
  {
   "cell_type": "markdown",
   "id": "fbd23a6b-a4fe-475b-adb2-68317f67ec6b",
   "metadata": {},
   "source": [
    "## 1. Evaluation strategies"
   ]
  },
  {
   "cell_type": "code",
   "execution_count": 41,
   "id": "09235796-7de7-4a38-91fd-a259605b02f8",
   "metadata": {},
   "outputs": [],
   "source": [
    "def add_noise_to_model(model, noise, copy=False):\n",
    "    \"\"\"\n",
    "    Add noise to the parameters of our model (agent). \n",
    "    \n",
    "    Args:\n",
    "        model: maps the sates into the actions (i.e. agent)\n",
    "        noise: noise which we add to parameters\n",
    "        copy: whether to make a new copy of the model\n",
    "    \"\"\"\n",
    "    if copy:\n",
    "        new_model = deepcopy(model)\n",
    "    else:\n",
    "        new_model = model\n",
    "        \n",
    "    for param, noise_param in zip(new_model.parameters(), noise):\n",
    "        param.data += noise_param\n",
    "\n",
    "    return new_model"
   ]
  },
  {
   "cell_type": "code",
   "execution_count": 126,
   "id": "9c0dd1b8-690d-4097-9370-cd04842a4306",
   "metadata": {},
   "outputs": [],
   "source": [
    "np.random.seed(2022)"
   ]
  },
  {
   "cell_type": "code",
   "execution_count": 157,
   "id": "ece74dd5-c1ab-46b7-8cdb-d412aa1eee77",
   "metadata": {},
   "outputs": [],
   "source": [
    "class EvolutioinStrategies:\n",
    "    def __init__(self, get_env_function, lr=0.001, std=0.01, n_samples = 64, n_threads = 1, normalize=True):\n",
    "        super().__init__()\n",
    "        self.lr = lr\n",
    "        self.std = std\n",
    "        self.normalize = normalize\n",
    "        self.n_samples = n_samples\n",
    "        self.mean_reward_history = []\n",
    "        self.n_threads = n_threads\n",
    "        self.env = get_env_function()\n",
    "        \n",
    "        \n",
    "    def get_noised_model(self, model):\n",
    "        \"\"\"\n",
    "        Generate noise and adds it to the model.\n",
    "        \n",
    "        Args:\n",
    "            model: maps the sates into the actions (i.e. agent)\n",
    "        \n",
    "        Returns:\n",
    "            model with noise and noise itself.\n",
    "        \"\"\"\n",
    "        noise = []\n",
    "        for param in model.parameters():\n",
    "            noise.append(self.std * torch.randn(param.shape))\n",
    "            \n",
    "        return add_noise_to_model(model, noise, copy=True), noise\n",
    "    \n",
    "    def normalize_rewards(self, rewards):\n",
    "        \"\"\"\n",
    "        Normalizes rewards. \n",
    "        \n",
    "        Args:\n",
    "            rewards: model rewards               \n",
    "        \"\"\"\n",
    "        rewards = (rewards - torch.mean(rewards)) / torch.std(rewards)\n",
    "        return rewards\n",
    "\n",
    "    \n",
    "    def optimize(self, model, noises, rewards):\n",
    "        \"\"\"\n",
    "        Updates weights by adding the combined (weighted) noise. \n",
    "        \n",
    "        Args:\n",
    "            model: maps the sates into the actions (i.e. agent)\n",
    "            noises: list of vectors of noises \n",
    "            rewards: rewards                \n",
    "        \"\"\"\n",
    "        if self.normalize:\n",
    "            rewards = self.normalize_rewards(rewards)\n",
    "        \n",
    "        combined_noise = []\n",
    "        for i in range(len(list(model.parameters()))):\n",
    "            cat_noise = torch.cat([n[i].unsqueeze(n[i].dim()) for n in noises], dim=-1)\n",
    "            combined_noise.append(torch.sum(rewards * cat_noise / self.std, dim=-1))\n",
    "            combined_noise[-1] *= self.lr / (len(noises) * self.std)\n",
    "\n",
    "        add_noise_to_model(model, combined_noise)\n",
    "    \n",
    "    \n",
    "    def step(self, model):\n",
    "        \"\"\"\n",
    "        Calculates rewards and makes an optimizing step.\n",
    "        \n",
    "        Args:\n",
    "            model: maps the sates into the actions (i.e. agent)\n",
    "        \"\"\"\n",
    "        st = time.time()\n",
    "        rewards = []\n",
    "        noises = []\n",
    "        noised_models = []\n",
    "        for i in range(self.n_samples):\n",
    "            noised_model, noise = self.get_noised_model(model)\n",
    "            noised_models.append(noised_model)\n",
    "            noises.append(noise)\n",
    "        \n",
    "        if self.n_threads == 1:\n",
    "            rewards = [score(self.env, noised_models[i]) for i in range(self.n_samples)]\n",
    "        else:\n",
    "            rewards = np.array(Parallel(n_jobs=self.n_threads)(delayed(score)(deepcopy(self.env), noised_models[i]) \n",
    "                                                               for i in range(self.n_samples)))\n",
    "        \n",
    "        self.optimize(model, noises, torch.tensor(rewards))\n",
    "        self.update_log(rewards)\n",
    "        \n",
    "    def update_log(self, rewards):\n",
    "        \"\"\"\n",
    "        Logs new rewards.\n",
    "        \"\"\"\n",
    "        mean_reward = np.mean(rewards)\n",
    "        self.mean_reward_history.append(mean_reward)\n",
    "\n",
    "        clear_output(True)\n",
    "        print(\"last mean reward = %.3f\" % mean_reward)\n",
    "        plt.figure(figsize=[8, 4])\n",
    "        plt.subplot(1, 2, 1)\n",
    "        plt.plot(self.mean_reward_history, label='Mean rewards')\n",
    "        plt.legend()\n",
    "        plt.grid()\n",
    "\n",
    "        plt.subplot(1, 2, 2)\n",
    "        plt.hist(rewards)\n",
    "        plt.grid()\n",
    "\n",
    "        plt.show()\n",
    "    "
   ]
  },
  {
   "cell_type": "code",
   "execution_count": 158,
   "id": "17fec666-fea2-4234-aad2-7adca31da5c3",
   "metadata": {},
   "outputs": [],
   "source": [
    "class MLPPolicy(nn.Module):\n",
    "    \"\"\"\n",
    "    Agent as a NN. Maps a state to an action. \n",
    "    \"\"\"\n",
    "    def __init__(self, n_features, n_actions, n_hiddens, discrete = False):\n",
    "        super().__init__()\n",
    "        self.discrete = discrete\n",
    "        \n",
    "        layers = []\n",
    "        # use two linear layers\n",
    "        layers.append(nn.Linear(n_features, n_hiddens, bias=False))\n",
    "        layers.append(nn.ReLU())\n",
    "        layers.append(nn.Linear(n_hiddens, n_actions, bias=False))\n",
    "        \n",
    "        self.model = nn.Sequential(*layers)\n",
    "\n",
    "        for param in self.parameters():\n",
    "            param.data *= 0\n",
    "            param.requires_grad = False\n",
    "        \n",
    "    def get_action(self, state):\n",
    "        \"\"\"\n",
    "        Gets an action from the state. Takes argmax (most likely) action. \n",
    "        \"\"\"\n",
    "        with torch.no_grad():\n",
    "            model_output = self.model(state)\n",
    "\n",
    "        if self.discrete:\n",
    "            return np.argmax(model_output.detach().numpy())\n",
    "        \n",
    "        return model_output.numpy()"
   ]
  },
  {
   "cell_type": "code",
   "execution_count": 159,
   "id": "51abb5c2-c6ea-4ad6-88f8-1623f8a7bc3a",
   "metadata": {},
   "outputs": [],
   "source": [
    "def get_env_function():\n",
    "    \"\"\"\n",
    "    Generates an instance of environment and returns it.\n",
    "    \"\"\"\n",
    "    env = gym.make('CartPole-v0').env\n",
    "    return env"
   ]
  },
  {
   "cell_type": "code",
   "execution_count": 152,
   "id": "8ce34e26-5526-467d-8fd8-97c42c99c8d6",
   "metadata": {},
   "outputs": [],
   "source": [
    "tmp_env = get_env_function()"
   ]
  },
  {
   "cell_type": "code",
   "execution_count": 153,
   "id": "da2ad186-b244-4c6d-9fb3-6a13b32f22a9",
   "metadata": {},
   "outputs": [],
   "source": [
    "n_states = tmp_env.observation_space.shape[0]\n",
    "n_actions = tmp_env.action_space.n"
   ]
  },
  {
   "cell_type": "markdown",
   "id": "0c72f4f2-3e2e-49ee-9c8a-f18bd00d0dbe",
   "metadata": {},
   "source": [
    "**Not parallelized version**"
   ]
  },
  {
   "cell_type": "code",
   "execution_count": 154,
   "id": "8d13d72e-a5e0-4205-9b0c-313548200052",
   "metadata": {},
   "outputs": [],
   "source": [
    "#agent will be with 64 hidden neurons.\n",
    "model = MLPPolicy(n_states, n_actions, 64, discrete=True)"
   ]
  },
  {
   "cell_type": "code",
   "execution_count": 160,
   "id": "4089ffcc-4129-4234-ad98-6049bc6b2375",
   "metadata": {},
   "outputs": [],
   "source": [
    "algorithm = EvolutioinStrategies(get_env_function, std=0.01, lr=0.001, n_threads = 1, n_samples=128)"
   ]
  },
  {
   "cell_type": "code",
   "execution_count": 156,
   "id": "28c2ce73-0234-4317-984e-6e8bc0578453",
   "metadata": {},
   "outputs": [
    {
     "name": "stdout",
     "output_type": "stream",
     "text": [
      "last mean reward = 485.884\n"
     ]
    },
    {
     "data": {
      "image/png": "[encoded data removed]",
      "text/plain": [
       "<Figure size 576x288 with 2 Axes>"
      ]
     },
     "metadata": {
      "needs_background": "light"
     },
     "output_type": "display_data"
    },
    {
     "name": "stdout",
     "output_type": "stream",
     "text": [
      "15.636188983917236\n"
     ]
    }
   ],
   "source": [
    "for i in range(15):\n",
    "    t = time.time()\n",
    "    algorithm.step(model)\n",
    "    print(time.time() - t)"
   ]
  },
  {
   "cell_type": "code",
   "execution_count": 161,
   "id": "1a230a8e-31c4-4375-b658-34de4648ca58",
   "metadata": {},
   "outputs": [
    {
     "data": {
      "text/plain": [
       "500.0"
      ]
     },
     "execution_count": 161,
     "metadata": {},
     "output_type": "execute_result"
    },
    {
     "data": {
      "image/png": "[encoded data removed]",
      "text/plain": [
       "<Figure size 432x360 with 1 Axes>"
      ]
     },
     "metadata": {
      "needs_background": "light"
     },
     "output_type": "display_data"
    }
   ],
   "source": [
    "display_session(tmp_env, model, t_max=500)"
   ]
  },
  {
   "cell_type": "markdown",
   "id": "92f19bae-cb4b-4989-aa7c-8bb61aadc4fa",
   "metadata": {},
   "source": [
    "**Parallelized version**"
   ]
  },
  {
   "cell_type": "code",
   "execution_count": 162,
   "id": "42d0249a-500a-4dfc-b00e-2e7f3c51edac",
   "metadata": {},
   "outputs": [],
   "source": [
    "model = MLPPolicy(n_states, n_actions, 64, discrete=True)"
   ]
  },
  {
   "cell_type": "code",
   "execution_count": 163,
   "id": "f2f42371-6255-4adc-b2e9-364cbe4d8f52",
   "metadata": {},
   "outputs": [],
   "source": [
    "algorithm = EvolutioinStrategies(get_env_function, std=0.01, lr=0.001, n_threads = 16, n_samples=128)"
   ]
  },
  {
   "cell_type": "code",
   "execution_count": 164,
   "id": "3e479a3b-4edb-4c30-9b5b-979b268964b3",
   "metadata": {},
   "outputs": [
    {
     "name": "stdout",
     "output_type": "stream",
     "text": [
      "last mean reward = 491.908\n"
     ]
    },
    {
     "data": {
      "image/png": "[encoded data removed]",
      "text/plain": [
       "<Figure size 576x288 with 2 Axes>"
      ]
     },
     "metadata": {
      "needs_background": "light"
     },
     "output_type": "display_data"
    },
    {
     "name": "stdout",
     "output_type": "stream",
     "text": [
      "23.596701860427856\n"
     ]
    }
   ],
   "source": [
    "for i in range(15):\n",
    "    t = time.time()\n",
    "    algorithm.step(model)\n",
    "    print(time.time() - t)"
   ]
  },
  {
   "cell_type": "code",
   "execution_count": 165,
   "id": "69b378a6-e2ea-45e6-b9c9-55000242e9ce",
   "metadata": {},
   "outputs": [
    {
     "data": {
      "text/plain": [
       "500.0"
      ]
     },
     "execution_count": 165,
     "metadata": {},
     "output_type": "execute_result"
    },
    {
     "data": {
      "image/png": "[encoded data removed]",
      "text/plain": [
       "<Figure size 432x360 with 1 Axes>"
      ]
     },
     "metadata": {
      "needs_background": "light"
     },
     "output_type": "display_data"
    }
   ],
   "source": [
    "display_session(tmp_env, model, t_max=500)"
   ]
  },
  {
   "cell_type": "code",
   "execution_count": null,
   "id": "9d3d2376-89eb-4dd7-a00a-46dec33c986a",
   "metadata": {},
   "outputs": [],
   "source": []
  }
 ],
 "metadata": {
  "kernelspec": {
   "display_name": "Python 3 (ipykernel)",
   "language": "python",
   "name": "python3"
  },
  "language_info": {
   "codemirror_mode": {
    "name": "ipython",
    "version": 3
   },
   "file_extension": ".py",
   "mimetype": "text/x-python",
   "name": "python",
   "nbconvert_exporter": "python",
   "pygments_lexer": "ipython3",
   "version": "3.9.7"
  }
 },
 "nbformat": 4,
 "nbformat_minor": 5
}
