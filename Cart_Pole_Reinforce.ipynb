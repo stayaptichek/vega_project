{
 "cells": [
  {
   "cell_type": "code",
   "execution_count": 1,
   "id": "9ef91344",
   "metadata": {},
   "outputs": [],
   "source": [
    "import numpy as np\n",
    "import matplotlib.pyplot as plt\n",
    "import torch\n",
    "import torch.nn as nn\n",
    "import time\n",
    "from copy import deepcopy\n",
    "from joblib import Parallel, delayed\n",
    "from IPython.display import clear_output\n",
    "from IPython import display\n",
    "from tqdm import tqdm\n",
    "import gym\n",
    "%matplotlib inline"
   ]
  },
  {
   "cell_type": "markdown",
   "id": "02e4967e",
   "metadata": {},
   "source": [
    "## 0. Start environment."
   ]
  },
  {
   "cell_type": "code",
   "execution_count": 2,
   "id": "745222ee",
   "metadata": {},
   "outputs": [
    {
     "name": "stdout",
     "output_type": "stream",
     "text": [
      "Total actions and dim: 2 act. , (4,) dim.\n"
     ]
    }
   ],
   "source": [
    "env = gym.make(\"CartPole-v0\")\n",
    "\n",
    "if hasattr(env, '_max_episode_steps'):\n",
    "    env = env.env\n",
    "\n",
    "env.reset()\n",
    "n_actions = env.action_space.n\n",
    "state_dim = env.observation_space.shape\n",
    "\n",
    "print(\"Total actions and dim: {} act. , {} dim.\".format(n_actions, state_dim))"
   ]
  },
  {
   "cell_type": "code",
   "execution_count": 3,
   "id": "60532151",
   "metadata": {},
   "outputs": [],
   "source": [
    "model = nn.Sequential(\n",
    "    nn.Linear(state_dim[0], 100),\n",
    "    nn.ReLU(),\n",
    "    nn.Linear(100, 100),\n",
    "    nn.ReLU(),\n",
    "    nn.Linear(100, n_actions)\n",
    ")"
   ]
  },
  {
   "cell_type": "code",
   "execution_count": 4,
   "id": "86fbc557",
   "metadata": {},
   "outputs": [],
   "source": [
    "import torch.nn.functional as F\n",
    "\n",
    "def predict_probs(states):\n",
    "    with torch.no_grad():\n",
    "        tens = torch.from_numpy(states).type(torch.float32)\n",
    "        return F.softmax(model(tens)).cpu().numpy()"
   ]
  },
  {
   "cell_type": "markdown",
   "id": "d33c5899",
   "metadata": {},
   "source": [
    "## 1. Define basic functions."
   ]
  },
  {
   "cell_type": "code",
   "execution_count": 5,
   "id": "1c396ddb",
   "metadata": {},
   "outputs": [],
   "source": [
    "def generate_session(env, t_max=1000):\n",
    "    states, actions, rewards = [], [], []\n",
    "    s = env.reset()\n",
    "\n",
    "    for t in range(t_max):\n",
    "        action_probs = predict_probs(np.array([s]))[0]\n",
    "\n",
    "        a = np.random.choice(n_actions, p=action_probs)\n",
    "        new_s, r, done, info = env.step(a)\n",
    "\n",
    "        states.append(s)\n",
    "        actions.append(a)\n",
    "        rewards.append(r)\n",
    "\n",
    "        s = new_s\n",
    "        if done:\n",
    "            break\n",
    "\n",
    "    return states, actions, rewards\n",
    "\n",
    "def get_cumulative_rewards(\n",
    "    rewards,  # rewards at each step\n",
    "    gamma=0.99  # discount for reward\n",
    "):\n",
    "    T = len(rewards)\n",
    "    G = np.zeros(T)\n",
    "    G[-1] = rewards[-1]\n",
    "    for i in range(T - 2, -1, -1):\n",
    "        G[i] = rewards[i] + gamma * G[i + 1]\n",
    "    return G\n",
    "\n",
    "def to_one_hot(y_tensor, ndims):\n",
    "    y_tensor = y_tensor.type(torch.LongTensor).view(-1, 1)\n",
    "    y_one_hot = torch.zeros(\n",
    "        y_tensor.size()[0], ndims).scatter_(1, y_tensor, 1)\n",
    "    return y_one_hot\n",
    "\n",
    "optimizer = torch.optim.Adam(model.parameters(), 1e-3)\n",
    "\n",
    "def train_on_session(states, actions, rewards, gamma=0.99, entropy_coef=1e-2):\n",
    "    states = torch.tensor(states, dtype=torch.float32)\n",
    "    actions = torch.tensor(actions, dtype=torch.int32)\n",
    "    cumulative_returns = np.array(get_cumulative_rewards(rewards, gamma))\n",
    "    cumulative_returns = torch.tensor(cumulative_returns, dtype=torch.float32)\n",
    "\n",
    "    logits = model(states)\n",
    "    probs = nn.functional.softmax(logits, -1)\n",
    "    log_probs = nn.functional.log_softmax(logits, -1)\n",
    "    \n",
    "    log_probs_for_actions = torch.sum(\n",
    "        log_probs * to_one_hot(actions, env.action_space.n), dim=1)\n",
    "   \n",
    "    entropy = torch.sum(probs*log_probs)\n",
    "    loss = -(torch.mean(log_probs_for_actions * cumulative_returns) + entropy_coef * entropy)\n",
    "\n",
    "    optimizer.zero_grad()\n",
    "    loss.backward()\n",
    "    optimizer.step()\n",
    "\n",
    "    return np.sum(rewards)"
   ]
  },
  {
   "cell_type": "markdown",
   "id": "95878def",
   "metadata": {},
   "source": [
    "## 2. Train process."
   ]
  },
  {
   "cell_type": "code",
   "execution_count": 6,
   "id": "6c56806c",
   "metadata": {},
   "outputs": [
    {
     "name": "stdout",
     "output_type": "stream",
     "text": [
      "Iter = 22, mean reward: 638.4\n"
     ]
    },
    {
     "data": {
      "image/png": "[encoded data removed]",
      "text/plain": [
       "<Figure size 432x288 with 1 Axes>"
      ]
     },
     "metadata": {
      "needs_background": "light"
     },
     "output_type": "display_data"
    },
    {
     "name": "stdout",
     "output_type": "stream",
     "text": [
      "You Win!\n"
     ]
    }
   ],
   "source": [
    "rewards_hist = []\n",
    "\n",
    "for i in range(100):\n",
    "    rewards = [train_on_session(*generate_session(env)) for _ in range(100)]  # generate new sessions\n",
    "    \n",
    "    clear_output(True)\n",
    "    \n",
    "    print(\"Iter = {}, mean reward: {}\".format(i, round(np.mean(rewards), 3)))\n",
    "    rewards_hist.append(np.mean(rewards))\n",
    "    \n",
    "    plt.grid()\n",
    "    plt.plot(rewards_hist)\n",
    "    plt.title(\"Mean reward for {} iterations\".format(i))\n",
    "    plt.xlabel(\"Iter.\")\n",
    "    plt.ylabel(\"Mean reward.\")\n",
    "    plt.show()\n",
    "    \n",
    "    if np.mean(rewards) > 500:\n",
    "        print(\"You Win!\")  # but you can train even further\n",
    "        break"
   ]
  }
 ],
 "metadata": {
  "kernelspec": {
   "display_name": "Python 3 (ipykernel)",
   "language": "python",
   "name": "python3"
  },
  "language_info": {
   "codemirror_mode": {
    "name": "ipython",
    "version": 3
   },
   "file_extension": ".py",
   "mimetype": "text/x-python",
   "name": "python",
   "nbconvert_exporter": "python",
   "pygments_lexer": "ipython3",
   "version": "3.8.11"
  }
 },
 "nbformat": 4,
 "nbformat_minor": 5
}
